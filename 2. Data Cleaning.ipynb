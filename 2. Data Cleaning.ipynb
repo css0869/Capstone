{
 "cells": [
  {
   "cell_type": "code",
   "execution_count": 9,
   "id": "cb5d468a",
   "metadata": {},
   "outputs": [],
   "source": [
    "import pandas as pd"
   ]
  },
  {
   "cell_type": "code",
   "execution_count": 45,
   "id": "f98c2769",
   "metadata": {
    "scrolled": true
   },
   "outputs": [
    {
     "data": {
      "text/plain": [
       "((4397, 11), (4896, 11))"
      ]
     },
     "execution_count": 45,
     "metadata": {},
     "output_type": "execute_result"
    }
   ],
   "source": [
    "skincare=pd.read_csv('SkinCareDetail.csv')\n",
    "makeup=pd.read_csv('MakeupDetail.csv')\n",
    "skincare.shape,makeup.shape"
   ]
  },
  {
   "cell_type": "code",
   "execution_count": 46,
   "id": "353071fb",
   "metadata": {},
   "outputs": [
    {
     "data": {
      "text/html": [
       "<div>\n",
       "<style scoped>\n",
       "    .dataframe tbody tr th:only-of-type {\n",
       "        vertical-align: middle;\n",
       "    }\n",
       "\n",
       "    .dataframe tbody tr th {\n",
       "        vertical-align: top;\n",
       "    }\n",
       "\n",
       "    .dataframe thead th {\n",
       "        text-align: right;\n",
       "    }\n",
       "</style>\n",
       "<table border=\"1\" class=\"dataframe\">\n",
       "  <thead>\n",
       "    <tr style=\"text-align: right;\">\n",
       "      <th></th>\n",
       "      <th>Brand</th>\n",
       "      <th>Name</th>\n",
       "      <th>Rating</th>\n",
       "      <th>Price</th>\n",
       "      <th>Link</th>\n",
       "      <th>ID</th>\n",
       "      <th>Reviews</th>\n",
       "      <th>Ingredient</th>\n",
       "      <th>Main_Category</th>\n",
       "      <th>Category</th>\n",
       "      <th>Details</th>\n",
       "      <th>Image</th>\n",
       "    </tr>\n",
       "  </thead>\n",
       "  <tbody>\n",
       "    <tr>\n",
       "      <th>6495</th>\n",
       "      <td>Tweezerman</td>\n",
       "      <td>Eyelash Guard &amp; Comb</td>\n",
       "      <td>3.9</td>\n",
       "      <td>$12.00</td>\n",
       "      <td>https://www.ulta.com/p/eyelash-guard-comb-pimp...</td>\n",
       "      <td>2591902</td>\n",
       "      <td>182.0</td>\n",
       "      <td>Ingredients are not available</td>\n",
       "      <td>Makeup</td>\n",
       "      <td>Makeup Brushes &amp; Tools</td>\n",
       "      <td>Details\\nFeatures\\nLash guide perfectly lays a...</td>\n",
       "      <td>https://media.ulta.com/i/ulta/2098?w=582&amp;h=582...</td>\n",
       "    </tr>\n",
       "    <tr>\n",
       "      <th>1339</th>\n",
       "      <td>BYOMA</td>\n",
       "      <td>Moisturizing Rich Cream</td>\n",
       "      <td>4.5</td>\n",
       "      <td>$15.99</td>\n",
       "      <td>https://www.ulta.com/p/moisturizing-rich-cream...</td>\n",
       "      <td>2601333</td>\n",
       "      <td>202.0</td>\n",
       "      <td>Aqua, Glycerin, Caprylic/Capric Triglyceride, ...</td>\n",
       "      <td>Skincare</td>\n",
       "      <td>Moisturizers</td>\n",
       "      <td>Details\\nBenefits\\nRich daily moisturizing cre...</td>\n",
       "      <td>https://media.ulta.com/i/ulta/2601333?w=78&amp;h=78</td>\n",
       "    </tr>\n",
       "    <tr>\n",
       "      <th>2764</th>\n",
       "      <td>Exuviance</td>\n",
       "      <td>Daily Resurfacing Leave On Face Peel</td>\n",
       "      <td>4.2</td>\n",
       "      <td>$75.50</td>\n",
       "      <td>https://www.ulta.com/p/daily-resurfacing-leave...</td>\n",
       "      <td>2554745</td>\n",
       "      <td>165.0</td>\n",
       "      <td>Aqua/water/eau, Citric Acid, Arginine, Ammoniu...</td>\n",
       "      <td>Skincare</td>\n",
       "      <td>Treatment &amp; Serums</td>\n",
       "      <td>Details\\nBenefits\\nNow you can safely and easi...</td>\n",
       "      <td>https://media.ulta.com/i/ulta/2554745?w=78&amp;h=78</td>\n",
       "    </tr>\n",
       "  </tbody>\n",
       "</table>\n",
       "</div>"
      ],
      "text/plain": [
       "           Brand                                  Name  Rating    Price  \\\n",
       "6495  Tweezerman                  Eyelash Guard & Comb     3.9  $12.00    \n",
       "1339       BYOMA               Moisturizing Rich Cream     4.5  $15.99    \n",
       "2764   Exuviance  Daily Resurfacing Leave On Face Peel     4.2  $75.50    \n",
       "\n",
       "                                                   Link       ID  Reviews  \\\n",
       "6495  https://www.ulta.com/p/eyelash-guard-comb-pimp...  2591902    182.0   \n",
       "1339  https://www.ulta.com/p/moisturizing-rich-cream...  2601333    202.0   \n",
       "2764  https://www.ulta.com/p/daily-resurfacing-leave...  2554745    165.0   \n",
       "\n",
       "                                             Ingredient Main_Category  \\\n",
       "6495                      Ingredients are not available        Makeup   \n",
       "1339  Aqua, Glycerin, Caprylic/Capric Triglyceride, ...      Skincare   \n",
       "2764  Aqua/water/eau, Citric Acid, Arginine, Ammoniu...      Skincare   \n",
       "\n",
       "                    Category  \\\n",
       "6495  Makeup Brushes & Tools   \n",
       "1339            Moisturizers   \n",
       "2764      Treatment & Serums   \n",
       "\n",
       "                                                Details  \\\n",
       "6495  Details\\nFeatures\\nLash guide perfectly lays a...   \n",
       "1339  Details\\nBenefits\\nRich daily moisturizing cre...   \n",
       "2764  Details\\nBenefits\\nNow you can safely and easi...   \n",
       "\n",
       "                                                  Image  \n",
       "6495  https://media.ulta.com/i/ulta/2098?w=582&h=582...  \n",
       "1339    https://media.ulta.com/i/ulta/2601333?w=78&h=78  \n",
       "2764    https://media.ulta.com/i/ulta/2554745?w=78&h=78  "
      ]
     },
     "execution_count": 46,
     "metadata": {},
     "output_type": "execute_result"
    }
   ],
   "source": [
    "#Combine makeup and skincare data\n",
    "skincare.insert(8,'Main_Category',[\"Skincare\"]*4397,True)\n",
    "makeup.insert(8,'Main_Category',[\"Makeup\"]*4896,True)\n",
    "ulta=pd.concat([skincare,makeup],axis=0)\n",
    "ulta.index=range(0,len(ulta))\n",
    "ulta['Price']=[x.split(\"Original Price\")[0] for x in ulta['Price']]\n",
    "ulta.sample(3)"
   ]
  },
  {
   "cell_type": "code",
   "execution_count": 47,
   "id": "15e0ecdf",
   "metadata": {},
   "outputs": [],
   "source": [
    "indexAge=ulta[ ulta['Category'].isin(['Makeup Brushes & Tools' ,'Makeup Bags & Organizers','Skincare Tools',\n",
    "                                     'Bath & Body Accessories'\n",
    "                                     ])].index\n",
    "ulta.drop(indexAge,inplace=True)"
   ]
  },
  {
   "cell_type": "code",
   "execution_count": 53,
   "id": "147f05d1",
   "metadata": {},
   "outputs": [],
   "source": [
    "#Drop lines with <3 ingredients provided\n",
    "ulta['Ig_list']=ulta.apply(lambda x:x['Ingredient'].split(','),axis=1)\n",
    "ulta['len']=ulta.apply(lambda x:len(x['Ig_list']),axis=1)\n",
    "indexAge=ulta[ ulta['len']<3].index\n",
    "ulta.drop(indexAge,inplace=True)\n",
    "ulta = ulta.drop(columns=['Ig_list', 'len'])"
   ]
  },
  {
   "cell_type": "code",
   "execution_count": 54,
   "id": "74a4b1f9",
   "metadata": {},
   "outputs": [],
   "source": [
    "#Drop duplicates\n",
    "ulta.drop_duplicates(subset=[\"Name\",'ID'],inplace=True)\n",
    "ulta.to_csv('Clean_data',index=None)"
   ]
  },
  {
   "cell_type": "code",
   "execution_count": 6,
   "id": "e644042d",
   "metadata": {},
   "outputs": [
    {
     "name": "stdout",
     "output_type": "stream",
     "text": [
      "3.9.13\n"
     ]
    }
   ],
   "source": [
    "from platform import python_version\n",
    "\n",
    "print(python_version())"
   ]
  }
 ],
 "metadata": {
  "kernelspec": {
   "display_name": "Python 3 (ipykernel)",
   "language": "python",
   "name": "python3"
  },
  "language_info": {
   "codemirror_mode": {
    "name": "ipython",
    "version": 3
   },
   "file_extension": ".py",
   "mimetype": "text/x-python",
   "name": "python",
   "nbconvert_exporter": "python",
   "pygments_lexer": "ipython3",
   "version": "3.9.13"
  }
 },
 "nbformat": 4,
 "nbformat_minor": 5
}
