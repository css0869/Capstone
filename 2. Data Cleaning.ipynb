{
 "cells": [
  {
   "cell_type": "code",
   "execution_count": 2,
   "id": "cb5d468a",
   "metadata": {},
   "outputs": [],
   "source": [
    "import pandas as pd"
   ]
  },
  {
   "cell_type": "code",
   "execution_count": 3,
   "id": "f98c2769",
   "metadata": {
    "scrolled": true
   },
   "outputs": [
    {
     "data": {
      "text/plain": [
       "((4397, 11), (4896, 11))"
      ]
     },
     "execution_count": 3,
     "metadata": {},
     "output_type": "execute_result"
    }
   ],
   "source": [
    "skincare=pd.read_csv('SkinCareDetail.csv')\n",
    "makeup=pd.read_csv('MakeupDetail.csv')\n",
    "skincare.shape,makeup.shape"
   ]
  },
  {
   "cell_type": "code",
   "execution_count": 17,
   "id": "353071fb",
   "metadata": {},
   "outputs": [
    {
     "data": {
      "text/html": [
       "<div>\n",
       "<style scoped>\n",
       "    .dataframe tbody tr th:only-of-type {\n",
       "        vertical-align: middle;\n",
       "    }\n",
       "\n",
       "    .dataframe tbody tr th {\n",
       "        vertical-align: top;\n",
       "    }\n",
       "\n",
       "    .dataframe thead th {\n",
       "        text-align: right;\n",
       "    }\n",
       "</style>\n",
       "<table border=\"1\" class=\"dataframe\">\n",
       "  <thead>\n",
       "    <tr style=\"text-align: right;\">\n",
       "      <th></th>\n",
       "      <th>Brand</th>\n",
       "      <th>Name</th>\n",
       "      <th>Rating</th>\n",
       "      <th>Price</th>\n",
       "      <th>Link</th>\n",
       "      <th>ID</th>\n",
       "      <th>Reviews</th>\n",
       "      <th>Ingredient</th>\n",
       "      <th>Main_Category</th>\n",
       "      <th>Main_Category</th>\n",
       "      <th>Main_Category</th>\n",
       "      <th>Category</th>\n",
       "      <th>Details</th>\n",
       "      <th>Image</th>\n",
       "    </tr>\n",
       "  </thead>\n",
       "  <tbody>\n",
       "    <tr>\n",
       "      <th>5696</th>\n",
       "      <td>e.l.f. Cosmetics</td>\n",
       "      <td>Pro Eyelash Curler</td>\n",
       "      <td>3.3</td>\n",
       "      <td>$5.00</td>\n",
       "      <td>https://www.ulta.com/p/pro-eyelash-curler-pimp...</td>\n",
       "      <td>2560974</td>\n",
       "      <td>223.0</td>\n",
       "      <td>Ingredients are not available</td>\n",
       "      <td>Makeup</td>\n",
       "      <td>Makeup</td>\n",
       "      <td>Makeup</td>\n",
       "      <td>Makeup Brushes &amp; Tools</td>\n",
       "      <td>Details\\nBenefits\\nPremium eyelash curler\\nPro...</td>\n",
       "      <td>https://media.ulta.com/i/ulta/1299?w=582&amp;h=582...</td>\n",
       "    </tr>\n",
       "    <tr>\n",
       "      <th>769</th>\n",
       "      <td>Dermalogica</td>\n",
       "      <td>Intensive Moisture Cleanser</td>\n",
       "      <td>4.6</td>\n",
       "      <td>$42.00 - $66.00</td>\n",
       "      <td>https://www.ulta.com/p/intensive-moisture-clea...</td>\n",
       "      <td>2535737</td>\n",
       "      <td>1763.0</td>\n",
       "      <td>Water/Aqua, Glycerin Caprylic / Capric Triglyc...</td>\n",
       "      <td>Skincare</td>\n",
       "      <td>Skincare</td>\n",
       "      <td>Skincare</td>\n",
       "      <td>Cleansers</td>\n",
       "      <td>Details\\nBenefits\\nRemoves make-up, sunscreen,...</td>\n",
       "      <td>https://media.ulta.com/i/ulta/2535737?w=156&amp;h=156</td>\n",
       "    </tr>\n",
       "    <tr>\n",
       "      <th>5010</th>\n",
       "      <td>Lancôme</td>\n",
       "      <td>Artliner Precision Felt Tip Liquid Eyeliner</td>\n",
       "      <td>4.4</td>\n",
       "      <td>$31.00</td>\n",
       "      <td>https://www.ulta.com/p/artliner-precision-felt...</td>\n",
       "      <td>2301337</td>\n",
       "      <td>1001.0</td>\n",
       "      <td>Ingredients are not available</td>\n",
       "      <td>Makeup</td>\n",
       "      <td>Makeup</td>\n",
       "      <td>Makeup</td>\n",
       "      <td>Eyes</td>\n",
       "      <td>Details\\nFeatures\\nLancôme Artliner Precision ...</td>\n",
       "      <td>https://media.ulta.com/i/ulta/613?w=582&amp;h=582&amp;...</td>\n",
       "    </tr>\n",
       "  </tbody>\n",
       "</table>\n",
       "</div>"
      ],
      "text/plain": [
       "                 Brand                                         Name  Rating  \\\n",
       "5696  e.l.f. Cosmetics                           Pro Eyelash Curler     3.3   \n",
       "769        Dermalogica                  Intensive Moisture Cleanser     4.6   \n",
       "5010           Lancôme  Artliner Precision Felt Tip Liquid Eyeliner     4.4   \n",
       "\n",
       "                 Price                                               Link  \\\n",
       "5696            $5.00   https://www.ulta.com/p/pro-eyelash-curler-pimp...   \n",
       "769   $42.00 - $66.00   https://www.ulta.com/p/intensive-moisture-clea...   \n",
       "5010           $31.00   https://www.ulta.com/p/artliner-precision-felt...   \n",
       "\n",
       "           ID  Reviews                                         Ingredient  \\\n",
       "5696  2560974    223.0                      Ingredients are not available   \n",
       "769   2535737   1763.0  Water/Aqua, Glycerin Caprylic / Capric Triglyc...   \n",
       "5010  2301337   1001.0                      Ingredients are not available   \n",
       "\n",
       "     Main_Category Main_Category Main_Category                Category  \\\n",
       "5696        Makeup        Makeup        Makeup  Makeup Brushes & Tools   \n",
       "769       Skincare      Skincare      Skincare               Cleansers   \n",
       "5010        Makeup        Makeup        Makeup                    Eyes   \n",
       "\n",
       "                                                Details  \\\n",
       "5696  Details\\nBenefits\\nPremium eyelash curler\\nPro...   \n",
       "769   Details\\nBenefits\\nRemoves make-up, sunscreen,...   \n",
       "5010  Details\\nFeatures\\nLancôme Artliner Precision ...   \n",
       "\n",
       "                                                  Image  \n",
       "5696  https://media.ulta.com/i/ulta/1299?w=582&h=582...  \n",
       "769   https://media.ulta.com/i/ulta/2535737?w=156&h=156  \n",
       "5010  https://media.ulta.com/i/ulta/613?w=582&h=582&...  "
      ]
     },
     "execution_count": 17,
     "metadata": {},
     "output_type": "execute_result"
    }
   ],
   "source": [
    "#Combine makeup and skincare data\n",
    "skincare.insert(8,'Main_Category',[\"Skincare\"]*4397,True)\n",
    "makeup.insert(8,'Main_Category',[\"Makeup\"]*4896,True)\n",
    "ulta=pd.concat([skincare,makeup],axis=0)\n",
    "ulta.index=range(0,len(ulta))\n",
    "ulta['Price']=[x.split(\"Original Price\")[0] for x in ulta['Price']]\n",
    "ulta.sample(3)"
   ]
  },
  {
   "cell_type": "code",
   "execution_count": 24,
   "id": "15e0ecdf",
   "metadata": {},
   "outputs": [],
   "source": [
    "indexAge=ulta[ ulta['Category'].isin(['Makeup Brushes & Tools' ,'Makeup Bags & Organizers','Skincare Tools',\n",
    "                                     'Bath & Body Accessories'\n",
    "                                     ])].index\n",
    "ulta.drop(indexAge,inplace=True)"
   ]
  },
  {
   "cell_type": "code",
   "execution_count": 25,
   "id": "663f6207",
   "metadata": {},
   "outputs": [],
   "source": [
    "#Drop lines without ingredients provided\n",
    "indexAge=ulta[ ulta['Ingredient'].isin(['Ingredients are not available' ,'Ingredients is not available',\n",
    "                                        'See full ingredient listing on packaging.',\n",
    "                                        'See packaging for full ingredient listing.',\n",
    "                                        'See packaging for full list of ingredients.',\n",
    "                                        'See individual packaging for a full list of ingredients.',\n",
    "                                        'A complete listing of ingredients are available on individual product pages.'\n",
    "                                       ])].index\n",
    "ulta.drop(indexAge,inplace=True)"
   ]
  },
  {
   "cell_type": "code",
   "execution_count": 26,
   "id": "80cd0543",
   "metadata": {},
   "outputs": [],
   "source": [
    "#Drop duplicates\n",
    "\n",
    "ulta.drop_duplicates(subset=[\"ID\"],inplace=True)\n",
    "ulta.to_csv('Clean_data',index=None)"
   ]
  }
 ],
 "metadata": {
  "kernelspec": {
   "display_name": "Python 3 (ipykernel)",
   "language": "python",
   "name": "python3"
  },
  "language_info": {
   "codemirror_mode": {
    "name": "ipython",
    "version": 3
   },
   "file_extension": ".py",
   "mimetype": "text/x-python",
   "name": "python",
   "nbconvert_exporter": "python",
   "pygments_lexer": "ipython3",
   "version": "3.9.13"
  }
 },
 "nbformat": 4,
 "nbformat_minor": 5
}
