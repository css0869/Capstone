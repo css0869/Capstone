{
 "cells": [
  {
   "cell_type": "code",
   "execution_count": 13,
   "id": "cb5d468a",
   "metadata": {},
   "outputs": [],
   "source": [
    "import pandas as pd"
   ]
  },
  {
   "cell_type": "code",
   "execution_count": 14,
   "id": "f98c2769",
   "metadata": {
    "scrolled": true
   },
   "outputs": [
    {
     "data": {
      "text/plain": [
       "((4397, 11), (4896, 11))"
      ]
     },
     "execution_count": 14,
     "metadata": {},
     "output_type": "execute_result"
    }
   ],
   "source": [
    "skincare=pd.read_csv('SkinCareDetail.csv')\n",
    "makeup=pd.read_csv('MakeupDetail.csv')\n",
    "skincare.shape,makeup.shape"
   ]
  },
  {
   "cell_type": "code",
   "execution_count": 15,
   "id": "353071fb",
   "metadata": {},
   "outputs": [
    {
     "data": {
      "text/html": [
       "<div>\n",
       "<style scoped>\n",
       "    .dataframe tbody tr th:only-of-type {\n",
       "        vertical-align: middle;\n",
       "    }\n",
       "\n",
       "    .dataframe tbody tr th {\n",
       "        vertical-align: top;\n",
       "    }\n",
       "\n",
       "    .dataframe thead th {\n",
       "        text-align: right;\n",
       "    }\n",
       "</style>\n",
       "<table border=\"1\" class=\"dataframe\">\n",
       "  <thead>\n",
       "    <tr style=\"text-align: right;\">\n",
       "      <th></th>\n",
       "      <th>Brand</th>\n",
       "      <th>Name</th>\n",
       "      <th>Rating</th>\n",
       "      <th>Price</th>\n",
       "      <th>Link</th>\n",
       "      <th>ID</th>\n",
       "      <th>Reviews</th>\n",
       "      <th>Ingredient</th>\n",
       "      <th>Main_Category</th>\n",
       "      <th>Category</th>\n",
       "      <th>Details</th>\n",
       "      <th>Image</th>\n",
       "    </tr>\n",
       "  </thead>\n",
       "  <tbody>\n",
       "    <tr>\n",
       "      <th>2774</th>\n",
       "      <td>Origins</td>\n",
       "      <td>Hello, Calm Face Mask with Cannabis Sativa See...</td>\n",
       "      <td>4.6</td>\n",
       "      <td>$32.00</td>\n",
       "      <td>https://www.ulta.com/p/hello-calm-face-mask-wi...</td>\n",
       "      <td>2542047</td>\n",
       "      <td>376.0</td>\n",
       "      <td>\"Water\\\\aqua\\\\eau, butylene glycol, prunus arm...</td>\n",
       "      <td>Skincare</td>\n",
       "      <td>Treatment &amp; Serums</td>\n",
       "      <td>Details\\nBenefits\\nThis lush, nourishing mask ...</td>\n",
       "      <td>Image is not available</td>\n",
       "    </tr>\n",
       "    <tr>\n",
       "      <th>3343</th>\n",
       "      <td>COOLA</td>\n",
       "      <td>Peach Blossom Classic Body Sunscreen SPF 70</td>\n",
       "      <td>3.6</td>\n",
       "      <td>$28.00</td>\n",
       "      <td>https://www.ulta.com/p/peach-blossom-classic-b...</td>\n",
       "      <td>2575596</td>\n",
       "      <td>11.0</td>\n",
       "      <td>Active: Avobenzone 3.0%, Homosalate 5.0%, Octi...</td>\n",
       "      <td>Skincare</td>\n",
       "      <td>Suncare</td>\n",
       "      <td>Details\\nBenefits\\n70%+ certified organic ingr...</td>\n",
       "      <td>Image is not available</td>\n",
       "    </tr>\n",
       "    <tr>\n",
       "      <th>8371</th>\n",
       "      <td>Morphe</td>\n",
       "      <td>Morphe 2 X Maddie Ziegler Changement Artistry ...</td>\n",
       "      <td>2.9</td>\n",
       "      <td>$18.00</td>\n",
       "      <td>https://www.ulta.com/p/morphe-2-x-maddie-ziegl...</td>\n",
       "      <td>2601774</td>\n",
       "      <td>8.0</td>\n",
       "      <td>Ingredients\\nPlease see product packaging for ...</td>\n",
       "      <td>Makeup</td>\n",
       "      <td>Eyes</td>\n",
       "      <td>Details\\nShades\\nTop Row: Reflex (shimmer whit...</td>\n",
       "      <td>https://media.ulta.com/i/ulta/3974?w=582&amp;h=582...</td>\n",
       "    </tr>\n",
       "  </tbody>\n",
       "</table>\n",
       "</div>"
      ],
      "text/plain": [
       "        Brand                                               Name  Rating  \\\n",
       "2774  Origins  Hello, Calm Face Mask with Cannabis Sativa See...     4.6   \n",
       "3343    COOLA        Peach Blossom Classic Body Sunscreen SPF 70     3.6   \n",
       "8371   Morphe  Morphe 2 X Maddie Ziegler Changement Artistry ...     2.9   \n",
       "\n",
       "        Price                                               Link       ID  \\\n",
       "2774  $32.00   https://www.ulta.com/p/hello-calm-face-mask-wi...  2542047   \n",
       "3343  $28.00   https://www.ulta.com/p/peach-blossom-classic-b...  2575596   \n",
       "8371  $18.00   https://www.ulta.com/p/morphe-2-x-maddie-ziegl...  2601774   \n",
       "\n",
       "      Reviews                                         Ingredient  \\\n",
       "2774    376.0  \"Water\\\\aqua\\\\eau, butylene glycol, prunus arm...   \n",
       "3343     11.0  Active: Avobenzone 3.0%, Homosalate 5.0%, Octi...   \n",
       "8371      8.0  Ingredients\\nPlease see product packaging for ...   \n",
       "\n",
       "     Main_Category            Category  \\\n",
       "2774      Skincare  Treatment & Serums   \n",
       "3343      Skincare             Suncare   \n",
       "8371        Makeup                Eyes   \n",
       "\n",
       "                                                Details  \\\n",
       "2774  Details\\nBenefits\\nThis lush, nourishing mask ...   \n",
       "3343  Details\\nBenefits\\n70%+ certified organic ingr...   \n",
       "8371  Details\\nShades\\nTop Row: Reflex (shimmer whit...   \n",
       "\n",
       "                                                  Image  \n",
       "2774                             Image is not available  \n",
       "3343                             Image is not available  \n",
       "8371  https://media.ulta.com/i/ulta/3974?w=582&h=582...  "
      ]
     },
     "execution_count": 15,
     "metadata": {},
     "output_type": "execute_result"
    }
   ],
   "source": [
    "#Combine makeup and skincare data\n",
    "skincare.insert(8,'Main_Category',[\"Skincare\"]*4397,True)\n",
    "makeup.insert(8,'Main_Category',[\"Makeup\"]*4896,True)\n",
    "ulta=pd.concat([skincare,makeup],axis=0)\n",
    "ulta.index=range(0,len(ulta))\n",
    "ulta['Price']=[x.split(\"Original Price\")[0] for x in ulta['Price']]\n",
    "ulta.sample(3)"
   ]
  },
  {
   "cell_type": "code",
   "execution_count": 16,
   "id": "15e0ecdf",
   "metadata": {},
   "outputs": [],
   "source": [
    "indexAge=ulta[ ulta['Category'].isin(['Makeup Brushes & Tools' ,'Makeup Bags & Organizers','Skincare Tools',\n",
    "                                     'Bath & Body Accessories'\n",
    "                                     ])].index\n",
    "ulta.drop(indexAge,inplace=True)"
   ]
  },
  {
   "cell_type": "code",
   "execution_count": 17,
   "id": "e12995e8",
   "metadata": {},
   "outputs": [],
   "source": [
    "def remove_prefix(text, prefix):\n",
    "    return text[text.startswith(prefix) and len(prefix):].strip()\n",
    "\n",
    "ulta['Ingredient']=ulta.apply(lambda x: remove_prefix(x['Ingredient'],'Ingredients\\n'),axis=1)\n",
    "ulta['Ingredient']=ulta.apply(lambda x: remove_prefix(x['Ingredient'],'Active:'),axis=1)\n",
    "ulta['Ingredient']=ulta.apply(lambda x: x['Ingredient'].lower(),axis=1)"
   ]
  },
  {
   "cell_type": "code",
   "execution_count": 18,
   "id": "1e2594ac",
   "metadata": {},
   "outputs": [
    {
     "name": "stdout",
     "output_type": "stream",
     "text": [
      "avobenzone 3%, homosalate 15%, octisalate 5%, octocrylene 7%.\n"
     ]
    },
    {
     "data": {
      "text/plain": [
       "['avobenzone', 'homosalate', 'octisalate', 'octocrylene']"
      ]
     },
     "execution_count": 18,
     "metadata": {},
     "output_type": "execute_result"
    }
   ],
   "source": [
    "import re\n",
    "ig=ulta['Ingredient'][1951]\n",
    "print(ig)\n",
    "def get_ig_list(ig):\n",
    "    l=re.split('[,]',ig.split(\".\")[0])\n",
    "    l=[x.strip().lower().rstrip(\".*\") for x in l  ]\n",
    "    l=[re.sub(\"\\d*%\",\"\",x).strip() for x in l if not x.startswith(('*',\"please\",\"water\",\"aqua\",\"eau\",\"ingredient\")) \n",
    "       and not x.isdigit() and \"may contain\" not in x ]\n",
    "    return sorted(l)\n",
    "\n",
    "get_ig_list(ig)"
   ]
  },
  {
   "cell_type": "code",
   "execution_count": 19,
   "id": "147f05d1",
   "metadata": {},
   "outputs": [],
   "source": [
    "#Drop lines with <=3 ingredients provided\n",
    "ulta['Ig_list']=ulta.apply(lambda x: get_ig_list(x['Ingredient']),axis=1)\n",
    "ulta['len']=ulta.apply(lambda x:len(x['Ig_list']),axis=1)\n",
    "#ulta['Ig_list'][1951]\n",
    "indexAge=ulta[ ulta['len']<=3].index\n",
    "ulta.drop(indexAge,inplace=True)\n",
    "#ulta = ulta.drop(columns=['Ig_list', 'len'])"
   ]
  },
  {
   "cell_type": "code",
   "execution_count": 20,
   "id": "74a4b1f9",
   "metadata": {},
   "outputs": [],
   "source": [
    "#Drop duplicates\n",
    "ulta.drop_duplicates(subset=[\"Name\",'ID'],inplace=True)\n",
    "ulta.to_csv('Clean_data',index=None)\n"
   ]
  },
  {
   "cell_type": "code",
   "execution_count": 21,
   "id": "e644042d",
   "metadata": {},
   "outputs": [
    {
     "name": "stdout",
     "output_type": "stream",
     "text": [
      "3.9.13\n"
     ]
    }
   ],
   "source": [
    "from platform import python_version\n",
    "\n",
    "print(python_version())"
   ]
  },
  {
   "cell_type": "code",
   "execution_count": null,
   "id": "f2ed1d01",
   "metadata": {},
   "outputs": [],
   "source": []
  }
 ],
 "metadata": {
  "kernelspec": {
   "display_name": "Python 3 (ipykernel)",
   "language": "python",
   "name": "python3"
  },
  "language_info": {
   "codemirror_mode": {
    "name": "ipython",
    "version": 3
   },
   "file_extension": ".py",
   "mimetype": "text/x-python",
   "name": "python",
   "nbconvert_exporter": "python",
   "pygments_lexer": "ipython3",
   "version": "3.9.13"
  }
 },
 "nbformat": 4,
 "nbformat_minor": 5
}
