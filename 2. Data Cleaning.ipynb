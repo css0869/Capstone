{
 "cells": [
  {
   "cell_type": "code",
   "execution_count": 10,
   "id": "cb5d468a",
   "metadata": {},
   "outputs": [],
   "source": [
    "import pandas as pd"
   ]
  },
  {
   "cell_type": "code",
   "execution_count": 11,
   "id": "f98c2769",
   "metadata": {
    "scrolled": true
   },
   "outputs": [
    {
     "data": {
      "text/plain": [
       "((4397, 11), (4896, 11))"
      ]
     },
     "execution_count": 11,
     "metadata": {},
     "output_type": "execute_result"
    }
   ],
   "source": [
    "skincare=pd.read_csv('SkinCareDetail.csv')\n",
    "makeup=pd.read_csv('MakeupDetail.csv')\n",
    "skincare.shape,makeup.shape"
   ]
  },
  {
   "cell_type": "code",
   "execution_count": 12,
   "id": "353071fb",
   "metadata": {},
   "outputs": [
    {
     "data": {
      "text/html": [
       "<div>\n",
       "<style scoped>\n",
       "    .dataframe tbody tr th:only-of-type {\n",
       "        vertical-align: middle;\n",
       "    }\n",
       "\n",
       "    .dataframe tbody tr th {\n",
       "        vertical-align: top;\n",
       "    }\n",
       "\n",
       "    .dataframe thead th {\n",
       "        text-align: right;\n",
       "    }\n",
       "</style>\n",
       "<table border=\"1\" class=\"dataframe\">\n",
       "  <thead>\n",
       "    <tr style=\"text-align: right;\">\n",
       "      <th></th>\n",
       "      <th>Brand</th>\n",
       "      <th>Name</th>\n",
       "      <th>Rating</th>\n",
       "      <th>Price</th>\n",
       "      <th>Link</th>\n",
       "      <th>ID</th>\n",
       "      <th>Reviews</th>\n",
       "      <th>Ingredient</th>\n",
       "      <th>Main_Category</th>\n",
       "      <th>Category</th>\n",
       "      <th>Details</th>\n",
       "      <th>Image</th>\n",
       "    </tr>\n",
       "  </thead>\n",
       "  <tbody>\n",
       "    <tr>\n",
       "      <th>3198</th>\n",
       "      <td>Everyday Humans</td>\n",
       "      <td>Resting Beach Face SPF30 Sunscreen Serum</td>\n",
       "      <td>4.6</td>\n",
       "      <td>$24.00</td>\n",
       "      <td>https://www.ulta.com/p/resting-beach-face-spf3...</td>\n",
       "      <td>2565702</td>\n",
       "      <td>146.0</td>\n",
       "      <td>Homosalate 8%, Octisalate 4%, Avobenzone 3%, O...</td>\n",
       "      <td>Skincare</td>\n",
       "      <td>Moisturizers</td>\n",
       "      <td>Details\\nBenefits\\nBroad spectrum SPF30 shield...</td>\n",
       "      <td>https://media.ulta.com/i/ulta/2565702?w=78&amp;h=78</td>\n",
       "    </tr>\n",
       "    <tr>\n",
       "      <th>1074</th>\n",
       "      <td>Michael Todd Beauty</td>\n",
       "      <td>Soniclear Elite Patented Face &amp; Body Antimicro...</td>\n",
       "      <td>4.6</td>\n",
       "      <td>$169.00</td>\n",
       "      <td>https://www.ulta.com/p/soniclear-elite-patente...</td>\n",
       "      <td>2587500</td>\n",
       "      <td>542.0</td>\n",
       "      <td>Ingredients is not available</td>\n",
       "      <td>Skincare</td>\n",
       "      <td>Skincare Tools</td>\n",
       "      <td>Details\\nBenefits\\nAntimicrobial Protection gu...</td>\n",
       "      <td>https://media.ulta.com/i/ulta/2587500?w=78&amp;h=78</td>\n",
       "    </tr>\n",
       "    <tr>\n",
       "      <th>7570</th>\n",
       "      <td>Ardell</td>\n",
       "      <td>Lash Contour Outer Volume Dramatic Eye-Elongat...</td>\n",
       "      <td>3.6</td>\n",
       "      <td>$12.99</td>\n",
       "      <td>https://www.ulta.com/p/lash-contour-outer-volu...</td>\n",
       "      <td>2586344</td>\n",
       "      <td>22.0</td>\n",
       "      <td>Ingredients</td>\n",
       "      <td>Makeup</td>\n",
       "      <td>Eyes</td>\n",
       "      <td>Details\\nBenefits\\nSculpt and define your eyes...</td>\n",
       "      <td>https://media.ulta.com/i/ulta/3173?w=582&amp;h=582...</td>\n",
       "    </tr>\n",
       "  </tbody>\n",
       "</table>\n",
       "</div>"
      ],
      "text/plain": [
       "                    Brand                                               Name  \\\n",
       "3198      Everyday Humans           Resting Beach Face SPF30 Sunscreen Serum   \n",
       "1074  Michael Todd Beauty  Soniclear Elite Patented Face & Body Antimicro...   \n",
       "7570               Ardell  Lash Contour Outer Volume Dramatic Eye-Elongat...   \n",
       "\n",
       "      Rating     Price                                               Link  \\\n",
       "3198     4.6   $24.00   https://www.ulta.com/p/resting-beach-face-spf3...   \n",
       "1074     4.6  $169.00   https://www.ulta.com/p/soniclear-elite-patente...   \n",
       "7570     3.6   $12.99   https://www.ulta.com/p/lash-contour-outer-volu...   \n",
       "\n",
       "           ID  Reviews                                         Ingredient  \\\n",
       "3198  2565702    146.0  Homosalate 8%, Octisalate 4%, Avobenzone 3%, O...   \n",
       "1074  2587500    542.0                       Ingredients is not available   \n",
       "7570  2586344     22.0                                        Ingredients   \n",
       "\n",
       "     Main_Category        Category  \\\n",
       "3198      Skincare    Moisturizers   \n",
       "1074      Skincare  Skincare Tools   \n",
       "7570        Makeup            Eyes   \n",
       "\n",
       "                                                Details  \\\n",
       "3198  Details\\nBenefits\\nBroad spectrum SPF30 shield...   \n",
       "1074  Details\\nBenefits\\nAntimicrobial Protection gu...   \n",
       "7570  Details\\nBenefits\\nSculpt and define your eyes...   \n",
       "\n",
       "                                                  Image  \n",
       "3198    https://media.ulta.com/i/ulta/2565702?w=78&h=78  \n",
       "1074    https://media.ulta.com/i/ulta/2587500?w=78&h=78  \n",
       "7570  https://media.ulta.com/i/ulta/3173?w=582&h=582...  "
      ]
     },
     "execution_count": 12,
     "metadata": {},
     "output_type": "execute_result"
    }
   ],
   "source": [
    "#Combine makeup and skincare data\n",
    "skincare.insert(8,'Main_Category',[\"Skincare\"]*4397,True)\n",
    "makeup.insert(8,'Main_Category',[\"Makeup\"]*4896,True)\n",
    "ulta=pd.concat([skincare,makeup],axis=0)\n",
    "ulta.index=range(0,len(ulta))\n",
    "ulta['Price']=[x.split(\"Original Price\")[0] for x in ulta['Price']]\n",
    "ulta.sample(3)"
   ]
  },
  {
   "cell_type": "code",
   "execution_count": 13,
   "id": "15e0ecdf",
   "metadata": {},
   "outputs": [],
   "source": [
    "indexAge=ulta[ ulta['Category'].isin(['Makeup Brushes & Tools' ,'Makeup Bags & Organizers','Skincare Tools',\n",
    "                                     'Bath & Body Accessories'\n",
    "                                     ])].index\n",
    "ulta.drop(indexAge,inplace=True)"
   ]
  },
  {
   "cell_type": "code",
   "execution_count": 14,
   "id": "147f05d1",
   "metadata": {},
   "outputs": [],
   "source": [
    "#Drop lines with <3 ingredients provided\n",
    "ulta['Ig_list']=ulta.apply(lambda x:x['Ingredient'].split(','),axis=1)\n",
    "ulta['len']=ulta.apply(lambda x:len(x['Ig_list']),axis=1)\n",
    "indexAge=ulta[ ulta['len']<=3].index\n",
    "ulta.drop(indexAge,inplace=True)\n",
    "ulta = ulta.drop(columns=['Ig_list', 'len'])"
   ]
  },
  {
   "cell_type": "code",
   "execution_count": 15,
   "id": "74a4b1f9",
   "metadata": {},
   "outputs": [],
   "source": [
    "#Drop duplicates\n",
    "ulta.drop_duplicates(subset=[\"Name\",'ID'],inplace=True)\n",
    "ulta.to_csv('Clean_data',index=None)\n"
   ]
  },
  {
   "cell_type": "code",
   "execution_count": 6,
   "id": "e644042d",
   "metadata": {},
   "outputs": [
    {
     "name": "stdout",
     "output_type": "stream",
     "text": [
      "3.9.13\n"
     ]
    }
   ],
   "source": [
    "from platform import python_version\n",
    "\n",
    "print(python_version())"
   ]
  }
 ],
 "metadata": {
  "kernelspec": {
   "display_name": "Python 3 (ipykernel)",
   "language": "python",
   "name": "python3"
  },
  "language_info": {
   "codemirror_mode": {
    "name": "ipython",
    "version": 3
   },
   "file_extension": ".py",
   "mimetype": "text/x-python",
   "name": "python",
   "nbconvert_exporter": "python",
   "pygments_lexer": "ipython3",
   "version": "3.9.13"
  }
 },
 "nbformat": 4,
 "nbformat_minor": 5
}
