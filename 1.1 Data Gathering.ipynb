{
 "cells": [
  {
   "cell_type": "markdown",
   "id": "95bc2e49",
   "metadata": {},
   "source": [
    "1.1 Parse Ulta site list of Skincare and Makeup products"
   ]
  },
  {
   "cell_type": "code",
   "execution_count": 1,
   "id": "f12e6deb",
   "metadata": {},
   "outputs": [],
   "source": [
    "import re\n",
    "import time\n",
    "import random\n",
    "import warnings\n",
    "import pandas as pd\n",
    "import numpy as np\n",
    "from typing import List\n",
    "from lxml import etree as et\n",
    "from bs4 import BeautifulSoup\n",
    "from time import sleep"
   ]
  },
  {
   "cell_type": "code",
   "execution_count": 2,
   "id": "80d678c8",
   "metadata": {},
   "outputs": [],
   "source": [
    "#pip install ediblepickle\n",
    "#pip install selenium\n",
    "#pip install webdriver-manager"
   ]
  },
  {
   "cell_type": "code",
   "execution_count": 43,
   "id": "2d8f4f30",
   "metadata": {},
   "outputs": [],
   "source": [
    "from selenium import webdriver\n",
    "from selenium.webdriver.common.by import By\n",
    "from selenium.webdriver.common.keys import Keys\n",
    "from webdriver_manager.chrome import ChromeDriverManager\n",
    "from selenium.webdriver.chrome.options import Options\n",
    "from selenium.common.exceptions import NoSuchElementException\n",
    "\n",
    "chrome_options=Options()\n",
    "chrome_options.add_argument('--no-sandbox')   \n",
    "chrome_options.add_argument('--disable-dev-shm-usage')\n",
    "chrome_options.add_argument('--disable-gpu')\n",
    "\n",
    "warnings.filterwarnings('ignore')\n",
    "#driver = webdriver.Chrome(ChromeDriverManager().install())\n",
    "driver = webdriver.Chrome(chrome_options=chrome_options)"
   ]
  },
  {
   "cell_type": "code",
   "execution_count": 44,
   "id": "898140b4",
   "metadata": {},
   "outputs": [],
   "source": [
    "#Handle the exception of product without Star Ratings\n",
    "def get_attr(x,tag,class_name):\n",
    "    try:\n",
    "        return x.find(tag,class_name).text\n",
    "    except Exception:\n",
    "        return None"
   ]
  },
  {
   "cell_type": "code",
   "execution_count": 45,
   "id": "9db9799b",
   "metadata": {},
   "outputs": [],
   "source": [
    "#Parse Brand,ProductID,ProductName,Price,Rating from all results page\n",
    "#Fetch link for each product\n",
    "\n",
    "def get_product_basic(url):\n",
    "    i=1\n",
    "    prod_basic=[]\n",
    "    while (True):\n",
    "        page=url+\"?page={}\".format(i)\n",
    "        driver.get(page)\n",
    "        sleep(4)\n",
    "        soup = BeautifulSoup(driver.page_source, 'html.parser')\n",
    "        prod_listing=soup.find('ul',class_=\"ProductListingResults__productList ProductListingResults__productList--space--top\")\n",
    "        try:\n",
    "            prod=prod_listing.find_all('li',class_='ProductListingResults__productCard')    \n",
    "        except Exception:\n",
    "            return prod_basic\n",
    "        \n",
    "        each_page=[ {\"Brand\":x.find('span','ProductCard__brand').text,\n",
    "                     \"Name\":x.find('span','ProductCard__product').text,\n",
    "                     \"Rating\":get_attr(x,'div','ProductCard__rating'),\n",
    "                     \"Price\":x.find('div','ProductCard__price').text,  \n",
    "                     \"Link\":x.find('a')['href'],\n",
    "                     \"ID\":x.find('div','ProductCard')['data-item-id']\n",
    "                    } for x in prod]\n",
    "        prod_basic.extend(each_page)\n",
    "        i=i+1\n",
    "        if(len(prod)<96): break\n",
    "    return prod_basic"
   ]
  },
  {
   "cell_type": "code",
   "execution_count": 100,
   "id": "d267c7dc",
   "metadata": {},
   "outputs": [
    {
     "data": {
      "text/plain": [
       "{'Brand': 'Drunk Elephant',\n",
       " 'Name': 'D-Bronzi Anti-Pollution Sunshine Drops',\n",
       " 'Rating': '4.6 out of 5 stars ; 903 reviews(903)',\n",
       " 'Price': '$38.00 ',\n",
       " 'Link': 'https://www.ulta.com/p/d-bronzi-anti-pollution-sunshine-drops-pimprod2028056?sku=2588470&dcEvent=true',\n",
       " 'ID': '2588470'}"
      ]
     },
     "execution_count": 100,
     "metadata": {},
     "output_type": "execute_result"
    }
   ],
   "source": [
    "#Parse list of results page for skincare\n",
    "skincare_url='https://www.ulta.com/shop/skin-care/all'\n",
    "all_skincare = get_product_basic(skincare_url)\n",
    "#print(\"There are {} skincare products in total.\".format(len(all_skincare)))\n",
    "all_skincare[0]"
   ]
  },
  {
   "cell_type": "code",
   "execution_count": 101,
   "id": "a92d6334",
   "metadata": {},
   "outputs": [
    {
     "data": {
      "text/html": [
       "<div>\n",
       "<style scoped>\n",
       "    .dataframe tbody tr th:only-of-type {\n",
       "        vertical-align: middle;\n",
       "    }\n",
       "\n",
       "    .dataframe tbody tr th {\n",
       "        vertical-align: top;\n",
       "    }\n",
       "\n",
       "    .dataframe thead th {\n",
       "        text-align: right;\n",
       "    }\n",
       "</style>\n",
       "<table border=\"1\" class=\"dataframe\">\n",
       "  <thead>\n",
       "    <tr style=\"text-align: right;\">\n",
       "      <th></th>\n",
       "      <th>Brand</th>\n",
       "      <th>Name</th>\n",
       "      <th>Rating</th>\n",
       "      <th>Price</th>\n",
       "      <th>Link</th>\n",
       "      <th>ID</th>\n",
       "    </tr>\n",
       "  </thead>\n",
       "  <tbody>\n",
       "    <tr>\n",
       "      <th>0</th>\n",
       "      <td>Drunk Elephant</td>\n",
       "      <td>D-Bronzi Anti-Pollution Sunshine Drops</td>\n",
       "      <td>4.6 out of 5 stars ; 903 reviews(903)</td>\n",
       "      <td>$38.00</td>\n",
       "      <td>https://www.ulta.com/p/d-bronzi-anti-pollution...</td>\n",
       "      <td>2588470</td>\n",
       "    </tr>\n",
       "    <tr>\n",
       "      <th>1</th>\n",
       "      <td>The Ordinary</td>\n",
       "      <td>Glycolic Acid 7% Exfoliating Toning Solution</td>\n",
       "      <td>4.3 out of 5 stars ; 2130 reviews(2,130)</td>\n",
       "      <td>$13.00</td>\n",
       "      <td>https://www.ulta.com/p/glycolic-acid-7-exfolia...</td>\n",
       "      <td>2551155</td>\n",
       "    </tr>\n",
       "    <tr>\n",
       "      <th>2</th>\n",
       "      <td>Estée Lauder</td>\n",
       "      <td>Advanced Night Repair Synchronized Multi-Recov...</td>\n",
       "      <td>4.5 out of 5 stars ; 18814 reviews(18,814)</td>\n",
       "      <td>$54.00 - $220.00</td>\n",
       "      <td>https://www.ulta.com/p/advanced-night-repair-s...</td>\n",
       "      <td>2568523</td>\n",
       "    </tr>\n",
       "    <tr>\n",
       "      <th>3</th>\n",
       "      <td>Dermalogica</td>\n",
       "      <td>Skin Smoothing Cream</td>\n",
       "      <td>4.5 out of 5 stars ; 1363 reviews(1,363)</td>\n",
       "      <td>Sale Price $23.50$23.50 Original Price $47.00$...</td>\n",
       "      <td>https://www.ulta.com/p/skin-smoothing-cream-pi...</td>\n",
       "      <td>2536765</td>\n",
       "    </tr>\n",
       "    <tr>\n",
       "      <th>4</th>\n",
       "      <td>The Ordinary</td>\n",
       "      <td>Niacinamide 10% + Zinc 1% Oil Control Serum</td>\n",
       "      <td>4.3 out of 5 stars ; 6331 reviews(6,331)</td>\n",
       "      <td>$6.00</td>\n",
       "      <td>https://www.ulta.com/p/niacinamide-10-zinc-1-o...</td>\n",
       "      <td>2551167</td>\n",
       "    </tr>\n",
       "  </tbody>\n",
       "</table>\n",
       "</div>"
      ],
      "text/plain": [
       "            Brand                                               Name  \\\n",
       "0  Drunk Elephant             D-Bronzi Anti-Pollution Sunshine Drops   \n",
       "1    The Ordinary       Glycolic Acid 7% Exfoliating Toning Solution   \n",
       "2    Estée Lauder  Advanced Night Repair Synchronized Multi-Recov...   \n",
       "3     Dermalogica                               Skin Smoothing Cream   \n",
       "4    The Ordinary        Niacinamide 10% + Zinc 1% Oil Control Serum   \n",
       "\n",
       "                                       Rating  \\\n",
       "0       4.6 out of 5 stars ; 903 reviews(903)   \n",
       "1    4.3 out of 5 stars ; 2130 reviews(2,130)   \n",
       "2  4.5 out of 5 stars ; 18814 reviews(18,814)   \n",
       "3    4.5 out of 5 stars ; 1363 reviews(1,363)   \n",
       "4    4.3 out of 5 stars ; 6331 reviews(6,331)   \n",
       "\n",
       "                                               Price  \\\n",
       "0                                            $38.00    \n",
       "1                                            $13.00    \n",
       "2                                  $54.00 - $220.00    \n",
       "3  Sale Price $23.50$23.50 Original Price $47.00$...   \n",
       "4                                             $6.00    \n",
       "\n",
       "                                                Link       ID  \n",
       "0  https://www.ulta.com/p/d-bronzi-anti-pollution...  2588470  \n",
       "1  https://www.ulta.com/p/glycolic-acid-7-exfolia...  2551155  \n",
       "2  https://www.ulta.com/p/advanced-night-repair-s...  2568523  \n",
       "3  https://www.ulta.com/p/skin-smoothing-cream-pi...  2536765  \n",
       "4  https://www.ulta.com/p/niacinamide-10-zinc-1-o...  2551167  "
      ]
     },
     "execution_count": 101,
     "metadata": {},
     "output_type": "execute_result"
    }
   ],
   "source": [
    "df_1=pd.DataFrame.from_dict(all_skincare)\n",
    "df_1.head()"
   ]
  },
  {
   "cell_type": "code",
   "execution_count": 102,
   "id": "055947f2",
   "metadata": {},
   "outputs": [],
   "source": [
    "df_1.to_csv('Skincare.csv',index=None)"
   ]
  },
  {
   "cell_type": "code",
   "execution_count": 46,
   "id": "c6d976f3",
   "metadata": {},
   "outputs": [
    {
     "name": "stdout",
     "output_type": "stream",
     "text": [
      "There are 4896 makeup products in total.\n",
      "<class 'pandas.core.frame.DataFrame'>\n",
      "RangeIndex: 4896 entries, 0 to 4895\n",
      "Data columns (total 6 columns):\n",
      " #   Column  Non-Null Count  Dtype \n",
      "---  ------  --------------  ----- \n",
      " 0   Brand   4896 non-null   object\n",
      " 1   Name    4896 non-null   object\n",
      " 2   Rating  4670 non-null   object\n",
      " 3   Price   4896 non-null   object\n",
      " 4   Link    4896 non-null   object\n",
      " 5   ID      4896 non-null   object\n",
      "dtypes: object(6)\n",
      "memory usage: 229.6+ KB\n",
      "CPU times: user 23.9 s, sys: 1.9 s, total: 25.8 s\n",
      "Wall time: 6min 36s\n"
     ]
    }
   ],
   "source": [
    "%%time\n",
    "#Do the same process for skincare\n",
    "makeup_url=\"https://www.ulta.com/shop/makeup/all\"\n",
    "all_makeup = get_product_basic(makeup_url)\n",
    "print(\"There are {} makeup products in total.\".format(len(all_makeup)))\n",
    "df_2=pd.DataFrame.from_dict(all_makeup)\n",
    "df_2.to_csv('Makeup.csv',index=None)\n",
    "df_2.info()"
   ]
  },
  {
   "cell_type": "code",
   "execution_count": 47,
   "id": "9dfccc6b",
   "metadata": {},
   "outputs": [
    {
     "data": {
      "text/html": [
       "<div>\n",
       "<style scoped>\n",
       "    .dataframe tbody tr th:only-of-type {\n",
       "        vertical-align: middle;\n",
       "    }\n",
       "\n",
       "    .dataframe tbody tr th {\n",
       "        vertical-align: top;\n",
       "    }\n",
       "\n",
       "    .dataframe thead th {\n",
       "        text-align: right;\n",
       "    }\n",
       "</style>\n",
       "<table border=\"1\" class=\"dataframe\">\n",
       "  <thead>\n",
       "    <tr style=\"text-align: right;\">\n",
       "      <th></th>\n",
       "      <th>Brand</th>\n",
       "      <th>Name</th>\n",
       "      <th>Rating</th>\n",
       "      <th>Price</th>\n",
       "      <th>Link</th>\n",
       "      <th>ID</th>\n",
       "    </tr>\n",
       "  </thead>\n",
       "  <tbody>\n",
       "    <tr>\n",
       "      <th>4891</th>\n",
       "      <td>Smashbox</td>\n",
       "      <td>Cover Shot Eyeshadow Palette: Matte</td>\n",
       "      <td>4.4 out of 5 stars ; 646 reviews(646)</td>\n",
       "      <td>$32.00</td>\n",
       "      <td>https://www.ulta.com/p/cover-shot-eyeshadow-pa...</td>\n",
       "      <td>2503595</td>\n",
       "    </tr>\n",
       "    <tr>\n",
       "      <th>4892</th>\n",
       "      <td>NARS</td>\n",
       "      <td>Smudge Proof Eyeshadow Base</td>\n",
       "      <td>4.6 out of 5 stars ; 93 reviews(93)</td>\n",
       "      <td>$26.00</td>\n",
       "      <td>https://www.ulta.com/p/smudge-proof-eyeshadow-...</td>\n",
       "      <td>2511521</td>\n",
       "    </tr>\n",
       "    <tr>\n",
       "      <th>4893</th>\n",
       "      <td>FLOWER Beauty</td>\n",
       "      <td>Miracle Matte Translucent Finishing Powder</td>\n",
       "      <td>3.3 out of 5 stars ; 245 reviews(245)</td>\n",
       "      <td>$13.99</td>\n",
       "      <td>https://www.ulta.com/p/miracle-matte-transluce...</td>\n",
       "      <td>2524919</td>\n",
       "    </tr>\n",
       "    <tr>\n",
       "      <th>4894</th>\n",
       "      <td>CoverGirl</td>\n",
       "      <td>Flourish by Lash Blast Mascara</td>\n",
       "      <td>4.3 out of 5 stars ; 1897 reviews(1,897)</td>\n",
       "      <td>$10.99</td>\n",
       "      <td>https://www.ulta.com/p/flourish-by-lash-blast-...</td>\n",
       "      <td>2531617</td>\n",
       "    </tr>\n",
       "    <tr>\n",
       "      <th>4895</th>\n",
       "      <td>NYX Professional Makeup</td>\n",
       "      <td>Swear By It Jumbo Eyeshadow Palette</td>\n",
       "      <td>4.5 out of 5 stars ; 96 reviews(96)</td>\n",
       "      <td>$35.00</td>\n",
       "      <td>https://www.ulta.com/p/swear-by-it-jumbo-eyesh...</td>\n",
       "      <td>2533282</td>\n",
       "    </tr>\n",
       "  </tbody>\n",
       "</table>\n",
       "</div>"
      ],
      "text/plain": [
       "                        Brand                                        Name  \\\n",
       "4891                 Smashbox         Cover Shot Eyeshadow Palette: Matte   \n",
       "4892                     NARS                 Smudge Proof Eyeshadow Base   \n",
       "4893            FLOWER Beauty  Miracle Matte Translucent Finishing Powder   \n",
       "4894                CoverGirl              Flourish by Lash Blast Mascara   \n",
       "4895  NYX Professional Makeup         Swear By It Jumbo Eyeshadow Palette   \n",
       "\n",
       "                                        Rating    Price  \\\n",
       "4891     4.4 out of 5 stars ; 646 reviews(646)  $32.00    \n",
       "4892       4.6 out of 5 stars ; 93 reviews(93)  $26.00    \n",
       "4893     3.3 out of 5 stars ; 245 reviews(245)  $13.99    \n",
       "4894  4.3 out of 5 stars ; 1897 reviews(1,897)  $10.99    \n",
       "4895       4.5 out of 5 stars ; 96 reviews(96)  $35.00    \n",
       "\n",
       "                                                   Link       ID  \n",
       "4891  https://www.ulta.com/p/cover-shot-eyeshadow-pa...  2503595  \n",
       "4892  https://www.ulta.com/p/smudge-proof-eyeshadow-...  2511521  \n",
       "4893  https://www.ulta.com/p/miracle-matte-transluce...  2524919  \n",
       "4894  https://www.ulta.com/p/flourish-by-lash-blast-...  2531617  \n",
       "4895  https://www.ulta.com/p/swear-by-it-jumbo-eyesh...  2533282  "
      ]
     },
     "execution_count": 47,
     "metadata": {},
     "output_type": "execute_result"
    }
   ],
   "source": [
    "df_2.tail(5)"
   ]
  },
  {
   "cell_type": "code",
   "execution_count": 48,
   "id": "6d35fc7e",
   "metadata": {},
   "outputs": [],
   "source": [
    "driver.quit()"
   ]
  }
 ],
 "metadata": {
  "kernelspec": {
   "display_name": "Python 3 (ipykernel)",
   "language": "python",
   "name": "python3"
  },
  "language_info": {
   "codemirror_mode": {
    "name": "ipython",
    "version": 3
   },
   "file_extension": ".py",
   "mimetype": "text/x-python",
   "name": "python",
   "nbconvert_exporter": "python",
   "pygments_lexer": "ipython3",
   "version": "3.9.13"
  }
 },
 "nbformat": 4,
 "nbformat_minor": 5
}
